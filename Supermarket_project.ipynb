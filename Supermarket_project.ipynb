{
 "cells": [
  {
   "cell_type": "markdown",
   "metadata": {},
   "source": [
    "#importing packages"
   ]
  },
  {
   "cell_type": "code",
   "execution_count": null,
   "metadata": {},
   "outputs": [],
   "source": [
    "import pandas as pd\n",
    "import pickle"
   ]
  },
  {
   "cell_type": "markdown",
   "metadata": {},
   "source": [
    "#Loading dataset"
   ]
  },
  {
   "cell_type": "code",
   "execution_count": 2,
   "metadata": {},
   "outputs": [
    {
     "name": "stderr",
     "output_type": "stream",
     "text": [
      "C:\\Users\\lenovo\\Anaconda3\\lib\\site-packages\\pandas\\util\\_decorators.py:188: FutureWarning: The `sheetname` keyword is deprecated, use `sheet_name` instead\n",
      "  return func(*args, **kwargs)\n"
     ]
    }
   ],
   "source": [
    "df=pd.read_excel('F://project2.xlsx',sheetname=0)"
   ]
  },
  {
   "cell_type": "code",
   "execution_count": 3,
   "metadata": {},
   "outputs": [
    {
     "data": {
      "text/html": [
       "<div>\n",
       "<style scoped>\n",
       "    .dataframe tbody tr th:only-of-type {\n",
       "        vertical-align: middle;\n",
       "    }\n",
       "\n",
       "    .dataframe tbody tr th {\n",
       "        vertical-align: top;\n",
       "    }\n",
       "\n",
       "    .dataframe thead th {\n",
       "        text-align: right;\n",
       "    }\n",
       "</style>\n",
       "<table border=\"1\" class=\"dataframe\">\n",
       "  <thead>\n",
       "    <tr style=\"text-align: right;\">\n",
       "      <th></th>\n",
       "      <th>Review</th>\n",
       "      <th>Liked</th>\n",
       "    </tr>\n",
       "  </thead>\n",
       "  <tbody>\n",
       "    <tr>\n",
       "      <th>0</th>\n",
       "      <td>One of the best super markets.</td>\n",
       "      <td>1.0</td>\n",
       "    </tr>\n",
       "    <tr>\n",
       "      <th>1</th>\n",
       "      <td>This is centrally located a superb market plac...</td>\n",
       "      <td>1.0</td>\n",
       "    </tr>\n",
       "    <tr>\n",
       "      <th>2</th>\n",
       "      <td>A complete area for your home shopping.</td>\n",
       "      <td>1.0</td>\n",
       "    </tr>\n",
       "    <tr>\n",
       "      <th>3</th>\n",
       "      <td>You can get everything of your need from fries...</td>\n",
       "      <td>1.0</td>\n",
       "    </tr>\n",
       "    <tr>\n",
       "      <th>4</th>\n",
       "      <td>The place was neat.</td>\n",
       "      <td>0.0</td>\n",
       "    </tr>\n",
       "    <tr>\n",
       "      <th>5</th>\n",
       "      <td>poor service.</td>\n",
       "      <td>0.0</td>\n",
       "    </tr>\n",
       "    <tr>\n",
       "      <th>6</th>\n",
       "      <td>Everything at best available prices.</td>\n",
       "      <td>1.0</td>\n",
       "    </tr>\n",
       "    <tr>\n",
       "      <th>7</th>\n",
       "      <td>The portion was huge!</td>\n",
       "      <td>1.0</td>\n",
       "    </tr>\n",
       "    <tr>\n",
       "      <th>8</th>\n",
       "      <td>They have products suited to every pocket.</td>\n",
       "      <td>1.0</td>\n",
       "    </tr>\n",
       "    <tr>\n",
       "      <th>9</th>\n",
       "      <td>very efficient and helpful staff..polite and q...</td>\n",
       "      <td>1.0</td>\n",
       "    </tr>\n",
       "    <tr>\n",
       "      <th>10</th>\n",
       "      <td>Would not go back.</td>\n",
       "      <td>0.0</td>\n",
       "    </tr>\n",
       "    <tr>\n",
       "      <th>11</th>\n",
       "      <td>It is a bad supermarket.</td>\n",
       "      <td>0.0</td>\n",
       "    </tr>\n",
       "    <tr>\n",
       "      <th>12</th>\n",
       "      <td>it is difficult to move in the shop.</td>\n",
       "      <td>0.0</td>\n",
       "    </tr>\n",
       "    <tr>\n",
       "      <th>13</th>\n",
       "      <td>Difficult to locate your requirements and depe...</td>\n",
       "      <td>0.0</td>\n",
       "    </tr>\n",
       "    <tr>\n",
       "      <th>14</th>\n",
       "      <td>However, it is a nice place for your urgent ne...</td>\n",
       "      <td>1.0</td>\n",
       "    </tr>\n",
       "    <tr>\n",
       "      <th>15</th>\n",
       "      <td>No parking for cars. Two wheelers have to be p...</td>\n",
       "      <td>0.0</td>\n",
       "    </tr>\n",
       "    <tr>\n",
       "      <th>16</th>\n",
       "      <td>The store has vegetables and fruits also.</td>\n",
       "      <td>1.0</td>\n",
       "    </tr>\n",
       "    <tr>\n",
       "      <th>17</th>\n",
       "      <td>Service sucks.</td>\n",
       "      <td>0.0</td>\n",
       "    </tr>\n",
       "    <tr>\n",
       "      <th>18</th>\n",
       "      <td>vast variety of food items..good offers and po...</td>\n",
       "      <td>1.0</td>\n",
       "    </tr>\n",
       "    <tr>\n",
       "      <th>19</th>\n",
       "      <td>small restaurant to have a quick bite or a cof...</td>\n",
       "      <td>1.0</td>\n",
       "    </tr>\n",
       "    <tr>\n",
       "      <th>20</th>\n",
       "      <td>did not like at all.</td>\n",
       "      <td>0.0</td>\n",
       "    </tr>\n",
       "    <tr>\n",
       "      <th>21</th>\n",
       "      <td>I was shocked because no signs indicate cash o...</td>\n",
       "      <td>0.0</td>\n",
       "    </tr>\n",
       "    <tr>\n",
       "      <th>22</th>\n",
       "      <td>We'll never go again.</td>\n",
       "      <td>0.0</td>\n",
       "    </tr>\n",
       "    <tr>\n",
       "      <th>23</th>\n",
       "      <td>It was terrible!</td>\n",
       "      <td>0.0</td>\n",
       "    </tr>\n",
       "    <tr>\n",
       "      <th>24</th>\n",
       "      <td>It was not good.</td>\n",
       "      <td>0.0</td>\n",
       "    </tr>\n",
       "    <tr>\n",
       "      <th>25</th>\n",
       "      <td>The cashier had no care what so ever on what I...</td>\n",
       "      <td>0.0</td>\n",
       "    </tr>\n",
       "    <tr>\n",
       "      <th>26</th>\n",
       "      <td>The real disappointment was salesman.</td>\n",
       "      <td>0.0</td>\n",
       "    </tr>\n",
       "    <tr>\n",
       "      <th>27</th>\n",
       "      <td>Nicely arranged and it's easy to find what eve...</td>\n",
       "      <td>1.0</td>\n",
       "    </tr>\n",
       "    <tr>\n",
       "      <th>28</th>\n",
       "      <td>But I don't like it.</td>\n",
       "      <td>0.0</td>\n",
       "    </tr>\n",
       "    <tr>\n",
       "      <th>29</th>\n",
       "      <td>Hell no will I go back</td>\n",
       "      <td>0.0</td>\n",
       "    </tr>\n",
       "    <tr>\n",
       "      <th>...</th>\n",
       "      <td>...</td>\n",
       "      <td>...</td>\n",
       "    </tr>\n",
       "    <tr>\n",
       "      <th>196</th>\n",
       "      <td>sales assistant was a little slow in service.</td>\n",
       "      <td>0.0</td>\n",
       "    </tr>\n",
       "    <tr>\n",
       "      <th>197</th>\n",
       "      <td>This place is not worth your time.</td>\n",
       "      <td>0.0</td>\n",
       "    </tr>\n",
       "    <tr>\n",
       "      <th>198</th>\n",
       "      <td>The Products, amazing.</td>\n",
       "      <td>1.0</td>\n",
       "    </tr>\n",
       "    <tr>\n",
       "      <th>199</th>\n",
       "      <td>Service is also cute.</td>\n",
       "      <td>1.0</td>\n",
       "    </tr>\n",
       "    <tr>\n",
       "      <th>200</th>\n",
       "      <td>I could care less... The interior is just beau...</td>\n",
       "      <td>1.0</td>\n",
       "    </tr>\n",
       "    <tr>\n",
       "      <th>201</th>\n",
       "      <td>So they performed.</td>\n",
       "      <td>1.0</td>\n",
       "    </tr>\n",
       "    <tr>\n",
       "      <th>202</th>\n",
       "      <td>We'd definitely go back here again.</td>\n",
       "      <td>1.0</td>\n",
       "    </tr>\n",
       "    <tr>\n",
       "      <th>203</th>\n",
       "      <td>We are so glad we found this place.</td>\n",
       "      <td>0.0</td>\n",
       "    </tr>\n",
       "    <tr>\n",
       "      <th>204</th>\n",
       "      <td>2 times - Very Bad Customer Service !</td>\n",
       "      <td>0.0</td>\n",
       "    </tr>\n",
       "    <tr>\n",
       "      <th>205</th>\n",
       "      <td>The sweet potato fries product were very good ...</td>\n",
       "      <td>1.0</td>\n",
       "    </tr>\n",
       "    <tr>\n",
       "      <th>206</th>\n",
       "      <td>Today is the second time I've been to their ma...</td>\n",
       "      <td>1.0</td>\n",
       "    </tr>\n",
       "    <tr>\n",
       "      <th>207</th>\n",
       "      <td>There is so much good product in Vegas that I ...</td>\n",
       "      <td>0.0</td>\n",
       "    </tr>\n",
       "    <tr>\n",
       "      <th>208</th>\n",
       "      <td>Coming here is like experiencing an underwhelm...</td>\n",
       "      <td>0.0</td>\n",
       "    </tr>\n",
       "    <tr>\n",
       "      <th>209</th>\n",
       "      <td>walked in and the place smelled like an old gr...</td>\n",
       "      <td>0.0</td>\n",
       "    </tr>\n",
       "    <tr>\n",
       "      <th>210</th>\n",
       "      <td>This place has it!</td>\n",
       "      <td>1.0</td>\n",
       "    </tr>\n",
       "    <tr>\n",
       "      <th>211</th>\n",
       "      <td>It was very unsatisfying.</td>\n",
       "      <td>0.0</td>\n",
       "    </tr>\n",
       "    <tr>\n",
       "      <th>212</th>\n",
       "      <td>All I have to say is the products was amazing!!!</td>\n",
       "      <td>1.0</td>\n",
       "    </tr>\n",
       "    <tr>\n",
       "      <th>213</th>\n",
       "      <td>Everything was fresh and delicious!</td>\n",
       "      <td>1.0</td>\n",
       "    </tr>\n",
       "    <tr>\n",
       "      <th>214</th>\n",
       "      <td>In summary, this was a largely disappointing s...</td>\n",
       "      <td>0.0</td>\n",
       "    </tr>\n",
       "    <tr>\n",
       "      <th>215</th>\n",
       "      <td>all thing are avilable at cheaper rate in this...</td>\n",
       "      <td>1.0</td>\n",
       "    </tr>\n",
       "    <tr>\n",
       "      <th>216</th>\n",
       "      <td>all things are available for buying like telev...</td>\n",
       "      <td>1.0</td>\n",
       "    </tr>\n",
       "    <tr>\n",
       "      <th>217</th>\n",
       "      <td>NaN</td>\n",
       "      <td>NaN</td>\n",
       "    </tr>\n",
       "    <tr>\n",
       "      <th>218</th>\n",
       "      <td>NaN</td>\n",
       "      <td>NaN</td>\n",
       "    </tr>\n",
       "    <tr>\n",
       "      <th>219</th>\n",
       "      <td>NaN</td>\n",
       "      <td>NaN</td>\n",
       "    </tr>\n",
       "    <tr>\n",
       "      <th>220</th>\n",
       "      <td>NaN</td>\n",
       "      <td>NaN</td>\n",
       "    </tr>\n",
       "    <tr>\n",
       "      <th>221</th>\n",
       "      <td>NaN</td>\n",
       "      <td>NaN</td>\n",
       "    </tr>\n",
       "    <tr>\n",
       "      <th>222</th>\n",
       "      <td>NaN</td>\n",
       "      <td>NaN</td>\n",
       "    </tr>\n",
       "    <tr>\n",
       "      <th>223</th>\n",
       "      <td>NaN</td>\n",
       "      <td>NaN</td>\n",
       "    </tr>\n",
       "    <tr>\n",
       "      <th>224</th>\n",
       "      <td>NaN</td>\n",
       "      <td>NaN</td>\n",
       "    </tr>\n",
       "    <tr>\n",
       "      <th>225</th>\n",
       "      <td></td>\n",
       "      <td>NaN</td>\n",
       "    </tr>\n",
       "  </tbody>\n",
       "</table>\n",
       "<p>226 rows × 2 columns</p>\n",
       "</div>"
      ],
      "text/plain": [
       "                                                Review  Liked\n",
       "0                     One of the best super markets.      1.0\n",
       "1    This is centrally located a superb market plac...    1.0\n",
       "2             A complete area for your home shopping.     1.0\n",
       "3    You can get everything of your need from fries...    1.0\n",
       "4                                 The place was neat.     0.0\n",
       "5                                       poor service.     0.0\n",
       "6                Everything at best available prices.     1.0\n",
       "7                                The portion was huge!    1.0\n",
       "8         They have products suited to every pocket.      1.0\n",
       "9    very efficient and helpful staff..polite and q...    1.0\n",
       "10                                  Would not go back.    0.0\n",
       "11                           It is a bad supermarket.     0.0\n",
       "12               it is difficult to move in the shop.     0.0\n",
       "13   Difficult to locate your requirements and depe...    0.0\n",
       "14   However, it is a nice place for your urgent ne...    1.0\n",
       "15   No parking for cars. Two wheelers have to be p...    0.0\n",
       "16          The store has vegetables and fruits also.     1.0\n",
       "17                                      Service sucks.    0.0\n",
       "18   vast variety of food items..good offers and po...    1.0\n",
       "19   small restaurant to have a quick bite or a cof...    1.0\n",
       "20                               did not like at all.     0.0\n",
       "21   I was shocked because no signs indicate cash o...    0.0\n",
       "22                               We'll never go again.    0.0\n",
       "23                              It was terrible!          0.0\n",
       "24                              It was not good.          0.0\n",
       "25   The cashier had no care what so ever on what I...    0.0\n",
       "26               The real disappointment was salesman.    0.0\n",
       "27   Nicely arranged and it's easy to find what eve...    1.0\n",
       "28                                But I don't like it.    0.0\n",
       "29                              Hell no will I go back    0.0\n",
       "..                                                 ...    ...\n",
       "196      sales assistant was a little slow in service.    0.0\n",
       "197                 This place is not worth your time.    0.0\n",
       "198                             The Products, amazing.    1.0\n",
       "199                              Service is also cute.    1.0\n",
       "200  I could care less... The interior is just beau...    1.0\n",
       "201                                 So they performed.    1.0\n",
       "202                We'd definitely go back here again.    1.0\n",
       "203              We are so glad we found this place.      0.0\n",
       "204              2 times - Very Bad Customer Service !    0.0\n",
       "205  The sweet potato fries product were very good ...    1.0\n",
       "206  Today is the second time I've been to their ma...    1.0\n",
       "207  There is so much good product in Vegas that I ...    0.0\n",
       "208  Coming here is like experiencing an underwhelm...    0.0\n",
       "209  walked in and the place smelled like an old gr...    0.0\n",
       "210                                 This place has it!    1.0\n",
       "211                          It was very unsatisfying.    0.0\n",
       "212   All I have to say is the products was amazing!!!    1.0\n",
       "213                Everything was fresh and delicious!    1.0\n",
       "214  In summary, this was a largely disappointing s...    0.0\n",
       "215  all thing are avilable at cheaper rate in this...    1.0\n",
       "216  all things are available for buying like telev...    1.0\n",
       "217                                                NaN    NaN\n",
       "218                                                NaN    NaN\n",
       "219                                                NaN    NaN\n",
       "220                                                NaN    NaN\n",
       "221                                                NaN    NaN\n",
       "222                                                NaN    NaN\n",
       "223                                                NaN    NaN\n",
       "224                                                NaN    NaN\n",
       "225                                                       NaN\n",
       "\n",
       "[226 rows x 2 columns]"
      ]
     },
     "execution_count": 3,
     "metadata": {},
     "output_type": "execute_result"
    }
   ],
   "source": [
    "df"
   ]
  },
  {
   "cell_type": "markdown",
   "metadata": {},
   "source": [
    "#importing essential libraries for performing Natural Language Processing on dataset"
   ]
  },
  {
   "cell_type": "code",
   "execution_count": 4,
   "metadata": {},
   "outputs": [
    {
     "name": "stderr",
     "output_type": "stream",
     "text": [
      "[nltk_data] Downloading package stopwords to\n",
      "[nltk_data]     C:\\Users\\lenovo\\AppData\\Roaming\\nltk_data...\n",
      "[nltk_data]   Package stopwords is already up-to-date!\n"
     ]
    }
   ],
   "source": [
    "import nltk\n",
    "import re\n",
    "nltk.download('stopwords')\n",
    "from nltk.corpus import stopwords\n",
    "from nltk.stem.porter import PorterStemmer"
   ]
  },
  {
   "cell_type": "markdown",
   "metadata": {},
   "source": [
    "#cleaning the reviews"
   ]
  },
  {
   "cell_type": "code",
   "execution_count": 5,
   "metadata": {},
   "outputs": [],
   "source": [
    "corpus=[]"
   ]
  },
  {
   "cell_type": "code",
   "execution_count": 6,
   "metadata": {},
   "outputs": [
    {
     "name": "stdout",
     "output_type": "stream",
     "text": [
      "0  \n",
      "1  \n",
      "2  \n",
      "3  \n",
      "4  \n",
      "5  \n",
      "6  \n",
      "7  \n",
      "8  \n",
      "9  \n",
      "10  \n",
      "11  \n",
      "12  \n",
      "13  \n",
      "14  \n",
      "15  \n",
      "16  \n",
      "17  \n",
      "18  \n",
      "19  \n",
      "20  \n",
      "21  \n",
      "22  \n",
      "23  \n",
      "24  \n",
      "25  \n",
      "26  \n",
      "27  \n",
      "28  \n",
      "29  \n",
      "30  \n",
      "31  \n",
      "32  \n",
      "33  \n",
      "34  \n",
      "35  \n",
      "36  \n",
      "37  \n",
      "38  \n",
      "39  \n",
      "40  \n",
      "41  \n",
      "42  \n",
      "43  \n",
      "44  \n",
      "45  \n",
      "46  \n",
      "47  \n",
      "48  \n",
      "49  \n",
      "50  \n",
      "51  \n",
      "52  \n",
      "53  \n",
      "54  \n",
      "55  \n",
      "56  \n",
      "57  \n",
      "58  \n",
      "59  \n",
      "60  \n",
      "61  \n",
      "62  \n",
      "63  \n",
      "64  \n",
      "65  \n",
      "66  \n",
      "67  \n",
      "68  \n",
      "69  \n",
      "70  \n",
      "71  \n",
      "72  \n",
      "73  \n",
      "74  \n",
      "75  \n",
      "76  \n",
      "77  \n",
      "78  \n",
      "79  \n",
      "80  \n",
      "81  \n",
      "82  \n",
      "83  \n",
      "84  \n",
      "85  \n",
      "86  \n",
      "87  \n",
      "88  \n",
      "89  \n",
      "90  \n",
      "91  \n",
      "92  \n",
      "93  \n",
      "94  \n",
      "95  \n",
      "96  \n",
      "97  \n",
      "98  \n",
      "99  \n",
      "100  \n",
      "101  \n",
      "102  \n",
      "103  \n",
      "104  \n",
      "105  \n",
      "106  \n",
      "107  \n",
      "108  \n",
      "109  \n",
      "110  \n",
      "111  \n",
      "112  \n",
      "113  \n",
      "114  \n",
      "115  \n",
      "116  \n",
      "117  \n",
      "118  \n",
      "119  \n",
      "120  \n",
      "121  \n",
      "122  \n",
      "123  \n",
      "124  \n",
      "125  \n",
      "126  \n",
      "127  \n",
      "128  \n",
      "129  \n",
      "130  \n",
      "131  \n",
      "132  \n",
      "133  \n",
      "134  \n",
      "135  \n",
      "136  \n",
      "137  \n",
      "138  \n",
      "139  \n",
      "140  \n",
      "141  \n",
      "142  \n",
      "143  \n",
      "144  \n",
      "145  \n",
      "146  \n",
      "147  \n",
      "148  \n",
      "149  \n",
      "150  \n",
      "151  \n",
      "152  \n",
      "153  \n",
      "154  \n",
      "155  \n",
      "156  \n",
      "157  \n",
      "158  \n",
      "159  \n",
      "160  \n",
      "161  \n",
      "162  \n",
      "163  \n",
      "164  \n",
      "165  \n",
      "166  \n",
      "167  \n",
      "168  \n",
      "169  \n",
      "170  \n",
      "171  \n",
      "172  \n",
      "173  \n",
      "174  \n",
      "175  \n",
      "176  \n",
      "177  \n",
      "178  \n",
      "179  \n",
      "180  \n",
      "181  \n",
      "182  \n",
      "183  \n",
      "184  \n",
      "185  \n",
      "186  \n",
      "187  \n",
      "188  \n",
      "189  \n",
      "190  \n",
      "191  \n",
      "192  \n",
      "193  \n",
      "194  \n",
      "195  \n",
      "196  \n",
      "197  \n",
      "198  \n",
      "199  \n",
      "200  \n",
      "201  \n",
      "202  \n",
      "203  \n",
      "204  \n",
      "205  \n",
      "206  \n",
      "207  \n",
      "208  \n",
      "209  \n",
      "210  \n",
      "211  \n",
      "212  \n",
      "213  \n",
      "214  \n",
      "215  \n",
      "216  \n"
     ]
    }
   ],
   "source": [
    "for i in range(217):\n",
    "    print(i, ' ')"
   ]
  },
  {
   "cell_type": "code",
   "execution_count": 7,
   "metadata": {},
   "outputs": [
    {
     "data": {
      "text/plain": [
       "Index([['Review'], ['Liked']], dtype='object')"
      ]
     },
     "execution_count": 7,
     "metadata": {},
     "output_type": "execute_result"
    }
   ],
   "source": [
    "df.columns.str.split()"
   ]
  },
  {
   "cell_type": "markdown",
   "metadata": {},
   "source": [
    "#cleaning the special characters from the review"
   ]
  },
  {
   "cell_type": "code",
   "execution_count": 8,
   "metadata": {},
   "outputs": [],
   "source": [
    "reviews = re.sub(pattern='[^a-zA-Z]',repl=' ',string=df['Review'][i])\n"
   ]
  },
  {
   "cell_type": "code",
   "execution_count": 9,
   "metadata": {},
   "outputs": [],
   "source": [
    "reviews=reviews.lower()"
   ]
  },
  {
   "cell_type": "code",
   "execution_count": 10,
   "metadata": {},
   "outputs": [],
   "source": [
    "reviews_words=reviews.split()"
   ]
  },
  {
   "cell_type": "markdown",
   "metadata": {},
   "source": [
    "#Removing the stopwords"
   ]
  },
  {
   "cell_type": "code",
   "execution_count": 11,
   "metadata": {},
   "outputs": [],
   "source": [
    "\n",
    "reviews_words=[word for word in reviews_words if not word in set(stopwords.words('english'))]"
   ]
  },
  {
   "cell_type": "markdown",
   "metadata": {},
   "source": [
    "#Stemming the words"
   ]
  },
  {
   "cell_type": "code",
   "execution_count": 12,
   "metadata": {},
   "outputs": [],
   "source": [
    "ps=PorterStemmer()"
   ]
  },
  {
   "cell_type": "code",
   "execution_count": 13,
   "metadata": {},
   "outputs": [],
   "source": [
    "reviews=[ps.stem(word)for word in reviews_words]"
   ]
  },
  {
   "cell_type": "markdown",
   "metadata": {},
   "source": [
    "#joining the stemmed words"
   ]
  },
  {
   "cell_type": "code",
   "execution_count": 14,
   "metadata": {},
   "outputs": [],
   "source": [
    "\n",
    "reviews=' '.join(reviews)"
   ]
  },
  {
   "cell_type": "code",
   "execution_count": 15,
   "metadata": {},
   "outputs": [],
   "source": [
    "corpus.append(reviews)"
   ]
  },
  {
   "cell_type": "markdown",
   "metadata": {},
   "source": [
    "creating a bag of words model"
   ]
  },
  {
   "cell_type": "code",
   "execution_count": 16,
   "metadata": {},
   "outputs": [],
   "source": [
    "from sklearn.feature_extraction.text import CountVectorizer\n",
    "cv = CountVectorizer(max_features=1500)\n",
    "X = cv.fit_transform(corpus).toarray()\n",
    "y = df.iloc[:, 1].values"
   ]
  },
  {
   "cell_type": "code",
   "execution_count": 17,
   "metadata": {},
   "outputs": [],
   "source": [
    "import pickle\n",
    "pickle.dump(cv,open('cv-transform.pkl', 'wb'))\n"
   ]
  },
  {
   "cell_type": "code",
   "execution_count": 18,
   "metadata": {},
   "outputs": [
    {
     "data": {
      "text/plain": [
       "(1, 9)"
      ]
     },
     "execution_count": 18,
     "metadata": {},
     "output_type": "execute_result"
    }
   ],
   "source": [
    "\n",
    "X.shape"
   ]
  },
  {
   "cell_type": "code",
   "execution_count": 19,
   "metadata": {},
   "outputs": [
    {
     "data": {
      "text/plain": [
       "(226,)"
      ]
     },
     "execution_count": 19,
     "metadata": {},
     "output_type": "execute_result"
    }
   ],
   "source": [
    "y.shape"
   ]
  },
  {
   "cell_type": "code",
   "execution_count": 20,
   "metadata": {},
   "outputs": [],
   "source": [
    "X = X.reshape(X.shape[1:])\n"
   ]
  },
  {
   "cell_type": "code",
   "execution_count": 21,
   "metadata": {},
   "outputs": [],
   "source": [
    "import pickle\n",
    "pickle.dump(cv,open('cv-transform.pkl', 'wb'))\n"
   ]
  },
  {
   "cell_type": "markdown",
   "metadata": {},
   "source": [
    "#Model building"
   ]
  },
  {
   "cell_type": "code",
   "execution_count": 22,
   "metadata": {
    "scrolled": true
   },
   "outputs": [],
   "source": [
    "import numpy as np\n",
    "from sklearn.model_selection import train_test_split\n",
    "X,y=np.arange(10).reshape((5,2)),range(5)"
   ]
  },
  {
   "cell_type": "code",
   "execution_count": 23,
   "metadata": {},
   "outputs": [],
   "source": [
    "X_train, X_test, y_train, y_test = train_test_split(X, y, test_size=0.20, random_state=0)"
   ]
  },
  {
   "cell_type": "code",
   "execution_count": 24,
   "metadata": {},
   "outputs": [
    {
     "data": {
      "text/plain": [
       "MultinomialNB(alpha=0.2, class_prior=None, fit_prior=True)"
      ]
     },
     "execution_count": 24,
     "metadata": {},
     "output_type": "execute_result"
    }
   ],
   "source": [
    "from sklearn.naive_bayes import MultinomialNB\n",
    "classifier = MultinomialNB(alpha=0.2)\n",
    "classifier.fit(X_train,y_train)"
   ]
  },
  {
   "cell_type": "code",
   "execution_count": 25,
   "metadata": {},
   "outputs": [],
   "source": [
    "filename = 'supermarket-sentiment-mnb-model.pkl'\n",
    "pickle.dump(classifier,open(filename,'wb'))"
   ]
  },
  {
   "cell_type": "code",
   "execution_count": null,
   "metadata": {},
   "outputs": [],
   "source": []
  }
 ],
 "metadata": {
  "kernelspec": {
   "display_name": "Python 3",
   "language": "python",
   "name": "python3"
  },
  "language_info": {
   "codemirror_mode": {
    "name": "ipython",
    "version": 3
   },
   "file_extension": ".py",
   "mimetype": "text/x-python",
   "name": "python",
   "nbconvert_exporter": "python",
   "pygments_lexer": "ipython3",
   "version": "3.7.3"
  }
 },
 "nbformat": 4,
 "nbformat_minor": 2
}
